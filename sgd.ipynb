{
 "cells": [
  {
   "cell_type": "markdown",
   "metadata": {},
   "source": [
    "## Creating Fake Data"
   ]
  },
  {
   "cell_type": "code",
   "execution_count": 1,
   "metadata": {},
   "outputs": [],
   "source": [
    "import numpy as np\n",
    "from sklearn.utils import shuffle\n",
    "from sklearn.datasets import make_blobs\n",
    "X, Y = make_blobs(n_samples=300, centers=2, n_features=2, cluster_std=5, random_state=11)"
   ]
  },
  {
   "cell_type": "markdown",
   "metadata": {},
   "source": [
    "## Visualizing the Data"
   ]
  },
  {
   "cell_type": "code",
   "execution_count": 2,
   "metadata": {},
   "outputs": [
    {
     "data": {
      "image/png": "[encoded data removed]",
      "text/plain": [
       "<Figure size 640x480 with 1 Axes>"
      ]
     },
     "metadata": {},
     "output_type": "display_data"
    }
   ],
   "source": [
    "from matplotlib import pyplot as plt\n",
    "from pandas import DataFrame \n",
    "df = DataFrame(dict(x=X[:,0], y=X[:,1], label=Y))\n",
    "colors = {0:'blue', 1:'orange'}\n",
    "fig, ax = plt.subplots()\n",
    "grouped = df.groupby('label')\n",
    "for key, group in grouped:\n",
    "    group.plot(ax=ax, kind='scatter', x='x', y='y', label=key, color=colors[key])\n",
    "plt.xlabel('X_1')\n",
    "plt.ylabel('X_2')\n",
    "plt.show()"
   ]
  },
  {
   "cell_type": "markdown",
   "metadata": {},
   "source": [
    "## Splitting into batches"
   ]
  },
  {
   "cell_type": "code",
   "execution_count": 3,
   "metadata": {},
   "outputs": [],
   "source": [
    "def next_batch(X, Y, batch_size):\n",
    "    for i in np.arange(0, X.shape[0], batch_size):\n",
    "        yield (X[i:i + batch_size], Y[i:i + batch_size])"
   ]
  },
  {
   "cell_type": "markdown",
   "metadata": {},
   "source": [
    "## Adding column of 1's "
   ]
  },
  {
   "cell_type": "code",
   "execution_count": 4,
   "metadata": {},
   "outputs": [
    {
     "data": {
      "text/plain": [
       "(300, 3)"
      ]
     },
     "execution_count": 4,
     "metadata": {},
     "output_type": "execute_result"
    }
   ],
   "source": [
    "X = np.c_[np.ones((X.shape[0])), X]\n",
    "X.shape"
   ]
  },
  {
   "cell_type": "markdown",
   "metadata": {},
   "source": [
    "## Logistic Model"
   ]
  },
  {
   "cell_type": "code",
   "execution_count": 5,
   "metadata": {},
   "outputs": [],
   "source": [
    "import numpy as np\n",
    "def sigmoid(z):\n",
    "    return 1 / (1 + np.exp(-z))"
   ]
  },
  {
   "cell_type": "code",
   "execution_count": 6,
   "metadata": {},
   "outputs": [],
   "source": [
    "def hx(W,X):\n",
    "    return sigmoid(np.dot(X,W))"
   ]
  },
  {
   "cell_type": "markdown",
   "metadata": {},
   "source": [
    "## Cost Function - Binary Cross Entropy "
   ]
  },
  {
   "cell_type": "code",
   "execution_count": 7,
   "metadata": {},
   "outputs": [],
   "source": [
    "def cost(W, X, Y):\n",
    "    y_pred = hx(W,X)\n",
    "    return -1 * sum(Y*np.log(y_pred) + (1-Y)*np.log(1-y_pred))"
   ]
  },
  {
   "cell_type": "markdown",
   "metadata": {},
   "source": [
    "## Stochastic Gradient Descent"
   ]
  },
  {
   "cell_type": "code",
   "execution_count": 8,
   "metadata": {},
   "outputs": [],
   "source": [
    "def grad(W, X, Y):\n",
    "    y_pred = hx(W,X)\n",
    "    A = (Y*(1-y_pred) - (1-Y)*y_pred)\n",
    "    g = -1* np.dot(A.T,X)\n",
    "    return g"
   ]
  },
  {
   "cell_type": "code",
   "execution_count": 9,
   "metadata": {},
   "outputs": [],
   "source": [
    "def sgd(W_new, W_prev, lr, batch_size, epochs):\n",
    "    X_, Y_ = shuffle(X, Y, random_state=0)\n",
    "    for e in range(epochs):\n",
    "        epoch_loss = []\n",
    "        X_, Y_ = shuffle(X_, Y_, random_state=0)\n",
    "        for (batchX, batchY) in next_batch(X_, Y_, batch_size):\n",
    "            W_prev = W_new\n",
    "            epoch_loss.append(cost(W_prev, batchX, batchY))\n",
    "            gradients = grad(W_prev, batchX, batchY)\n",
    "            W_new = W_prev - lr*gradients\n",
    "        print(np.average(epoch_loss))\n",
    "    return W_new"
   ]
  },
  {
   "cell_type": "markdown",
   "metadata": {},
   "source": [
    "## Initializing Weights & Bias"
   ]
  },
  {
   "cell_type": "code",
   "execution_count": 10,
   "metadata": {},
   "outputs": [
    {
     "data": {
      "text/plain": [
       "(3,)"
      ]
     },
     "execution_count": 10,
     "metadata": {},
     "output_type": "execute_result"
    }
   ],
   "source": [
    "W = np.random.uniform(size=(X.shape[1],))\n",
    "W.shape"
   ]
  },
  {
   "cell_type": "markdown",
   "metadata": {},
   "source": [
    "## Training the Model"
   ]
  },
  {
   "cell_type": "code",
   "execution_count": 11,
   "metadata": {},
   "outputs": [
    {
     "name": "stdout",
     "output_type": "stream",
     "text": [
      "[0.89102418 0.02936421 0.65284032]\n",
      "5.794184781979862\n",
      "5.662048248995035\n",
      "5.566707887805044\n",
      "5.421587784287125\n",
      "5.625128375613654\n",
      "5.262134798082418\n",
      "5.243705860214737\n",
      "5.04214917122654\n",
      "5.426824975961421\n",
      "5.053000994266293\n",
      "5.078338084731285\n",
      "5.0175857076645345\n",
      "5.223625525579137\n",
      "4.980857027292556\n",
      "5.0389794618579735\n",
      "5.107095675377062\n",
      "5.238310131021609\n",
      "5.326671874261088\n",
      "5.2312124460839575\n",
      "4.928502265988438\n",
      "5.138932114376327\n",
      "4.862149468497175\n",
      "5.156859446041745\n",
      "4.983665985292403\n",
      "5.074326315110104\n",
      "5.255743754258441\n",
      "5.150326734638093\n",
      "5.374431966536285\n",
      "5.017023218755062\n",
      "4.91662599185685\n",
      "5.155024531268535\n",
      "4.77804047312668\n",
      "5.170200625957843\n",
      "4.981603037331164\n",
      "5.064757197164949\n",
      "5.130150581509586\n",
      "5.056057070122717\n",
      "4.751305965751849\n",
      "5.044846756201605\n",
      "5.199781895118067\n",
      "5.285754949285348\n",
      "4.695916580048861\n",
      "5.110805909585359\n",
      "4.929204642857046\n",
      "5.5082386586401055\n",
      "4.929490149179765\n",
      "5.358573785812458\n",
      "5.109831276488504\n",
      "5.268768420240803\n",
      "5.055279537262647\n",
      "5.127055613503162\n",
      "5.256112885385202\n",
      "5.201735287029671\n",
      "5.297072826702478\n",
      "4.842576984410428\n",
      "5.216521587826206\n",
      "5.167110530567035\n",
      "5.030912163092601\n",
      "4.920798202517318\n",
      "5.028718837426456\n",
      "5.254952216115539\n",
      "5.016590509339302\n",
      "4.902814944792416\n",
      "4.952030449128077\n",
      "4.919164773745975\n",
      "5.027110957893482\n",
      "5.0780086089904115\n",
      "4.880092244729784\n",
      "4.944980301157243\n",
      "5.0527107085831275\n",
      "5.081601333215536\n",
      "5.182536197863502\n",
      "4.969728151067946\n",
      "5.056736748066119\n",
      "5.1103285356344665\n",
      "4.996864173543907\n",
      "4.989712350970129\n",
      "4.858931076203912\n",
      "4.930729642577934\n",
      "5.0093135347261075\n",
      "5.127983727009111\n",
      "5.023141081660379\n",
      "5.254004661072917\n",
      "5.01408792060785\n",
      "4.979883312047633\n",
      "5.0524343300043055\n",
      "5.042106004024605\n",
      "5.069466865785716\n",
      "5.150273718420387\n",
      "5.164410042740104\n",
      "5.039133706489454\n",
      "4.988372018938886\n",
      "5.132440837318636\n",
      "4.891179565674495\n",
      "5.062101205723023\n",
      "5.208694508721677\n",
      "4.955129154662833\n",
      "4.882157378779356\n",
      "4.935113427603232\n",
      "5.45273299923652\n",
      "4.902660736135743\n",
      "4.973226878821473\n",
      "4.969133085223201\n",
      "5.0348219813982\n",
      "5.111575186346041\n",
      "5.052712847630177\n",
      "4.96884682733939\n",
      "5.088616948416907\n",
      "4.915827888712884\n",
      "5.093154583252497\n",
      "5.033659626759226\n",
      "5.223413540485788\n",
      "5.107787740479649\n",
      "5.135492513349545\n",
      "4.98977612568284\n",
      "5.165531441515421\n",
      "5.327759248628714\n",
      "5.01908043181386\n",
      "5.02395641544927\n",
      "5.026682195368144\n",
      "5.159714264138625\n",
      "5.027796877140688\n",
      "4.9886508000585446\n",
      "5.012926067588611\n",
      "5.081664152768492\n",
      "5.272120434049151\n",
      "4.8518722668001875\n",
      "4.9569680534204\n",
      "5.025161091448778\n",
      "4.993679366737895\n",
      "5.099872125942407\n",
      "5.096179540742024\n",
      "5.236924560171898\n",
      "4.903675676419254\n",
      "5.075808995228048\n",
      "4.701675415769718\n",
      "5.299083683102291\n",
      "5.112202655363502\n",
      "5.0571995863606265\n",
      "5.213614713595474\n",
      "5.11984554722642\n",
      "4.928097797245493\n",
      "4.991965248053867\n",
      "4.994825383492306\n",
      "5.049274919305702\n",
      "4.942714153180697\n",
      "4.919137795203087\n",
      "5.4314323824358555\n",
      "5.116115840140378\n",
      "4.9625904944256956\n",
      "5.042138142924413\n",
      "5.157806034525352\n",
      "5.04896388593633\n",
      "5.0189831297013034\n",
      "5.185033874998575\n",
      "5.032465940484775\n",
      "4.897108676117716\n",
      "4.954217131715029\n",
      "5.259005940257814\n",
      "5.1827180276556515\n",
      "4.884827033240699\n",
      "5.156843411363329\n",
      "5.0476451620116425\n",
      "5.050122111347951\n",
      "4.869795434419605\n",
      "4.995719111123172\n",
      "5.0229890817986105\n",
      "5.002840125590245\n",
      "4.881319366746033\n",
      "5.055591193097943\n",
      "5.015670279256921\n",
      "5.013392685645352\n",
      "4.989724438200691\n",
      "4.880412720216968\n",
      "5.41622419996094\n",
      "5.286739784614726\n",
      "5.114149743714373\n",
      "5.079966394604212\n",
      "4.925427266808946\n",
      "5.145176798154624\n",
      "5.130160601399885\n",
      "5.024814777463749\n",
      "4.958770255831911\n",
      "4.818432042515406\n",
      "5.348422133565519\n",
      "5.279335242050537\n",
      "5.107921653104673\n",
      "5.150797999995983\n",
      "5.09640662119823\n",
      "5.005857037637573\n",
      "5.200218938110637\n",
      "4.962296508328849\n",
      "4.937523189899147\n",
      "5.174090618156537\n",
      "5.1400977785047175\n",
      "5.131992551383039\n",
      "5.048127911918476\n",
      "5.416048167407805\n",
      "5.05712079178789\n",
      "4.864274054426048\n",
      "[2.38150486 0.22263113 0.53666762]\n"
     ]
    }
   ],
   "source": [
    "print(W)\n",
    "W = sgd(W, W, .009, 32, 200)\n",
    "print(W)"
   ]
  },
  {
   "cell_type": "markdown",
   "metadata": {},
   "source": [
    "## Visualizing the Result"
   ]
  },
  {
   "cell_type": "code",
   "execution_count": 12,
   "metadata": {},
   "outputs": [
    {
     "data": {
      "image/png": "[encoded data removed]",
      "text/plain": [
       "<Figure size 640x480 with 1 Axes>"
      ]
     },
     "metadata": {},
     "output_type": "display_data"
    }
   ],
   "source": [
    "def graph(formula, x_range):  \n",
    "    x = np.array(x_range)  \n",
    "    y = formula(x)  \n",
    "    plt.plot(x, y)  \n",
    "    \n",
    "def my_formula(x):\n",
    "    return (-W[0]-W[1]*x)/W[2]\n",
    "\n",
    "from matplotlib import pyplot as plt\n",
    "from pandas import DataFrame \n",
    "df = DataFrame(dict(x=X[:,1], y=X[:,2], label=Y))\n",
    "colors = {0:'blue', 1:'orange'}\n",
    "fig, ax = plt.subplots()\n",
    "grouped = df.groupby('label')\n",
    "for key, group in grouped:\n",
    "    group.plot(ax=ax, kind='scatter', x='x', y='y', label=key, color=colors[key])\n",
    "graph(my_formula, range(-20,15))\n",
    "plt.xlabel('X_1')\n",
    "plt.ylabel('X_2')\n",
    "plt.show()"
   ]
  }
 ],
 "metadata": {
  "kernelspec": {
   "display_name": "Python 3",
   "language": "python",
   "name": "python3"
  },
  "language_info": {
   "codemirror_mode": {
    "name": "ipython",
    "version": 3
   },
   "file_extension": ".py",
   "mimetype": "text/x-python",
   "name": "python",
   "nbconvert_exporter": "python",
   "pygments_lexer": "ipython3",
   "version": "3.11.4"
  }
 },
 "nbformat": 4,
 "nbformat_minor": 2
}
